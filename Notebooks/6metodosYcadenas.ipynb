{
 "cells": [
  {
   "attachments": {},
   "cell_type": "markdown",
   "metadata": {},
   "source": [
    "# metodos con listas\n",
    "* LIST - crea una lista\n",
    "* LEN - cuenta la cantidad de elementos de una lista\n",
    "* APPEND - agrega un elemento a la lista\n",
    "* INSERT - agrega un elemento a la lista en el indice especificado\n",
    "* EXTEND - agrega varios elementos a la lista\n",
    "* POP - elimina un elemento de una lista, pide indice y devuelve valor\n",
    "* REMOVE - remueve un elemento de una lista, pide valor\n",
    "* CLEAR - elimina todos los elementos de una lista\n",
    "* SORT - ordena una lista de forma ascendente a descendente\n",
    "* REVERSE - invierte los elementos de una lista"
   ]
  },
  {
   "cell_type": "code",
   "execution_count": null,
   "metadata": {},
   "outputs": [],
   "source": [
    "lista = list( [\"hola\", \"enry\", 24])\n",
    "print (lista)"
   ]
  },
  {
   "cell_type": "code",
   "execution_count": null,
   "metadata": {},
   "outputs": [],
   "source": [
    "cantidadElementos = len(lista)\n",
    "print (cantidadElementos)\n",
    "#devuelve 3 que son justamente la cantidad de elementos"
   ]
  },
  {
   "cell_type": "code",
   "execution_count": 5,
   "metadata": {},
   "outputs": [
    {
     "name": "stdout",
     "output_type": "stream",
     "text": [
      "['hola', 'enry', 24, 'nuevoElemento']\n"
     ]
    }
   ],
   "source": [
    "#modifica la lista original, te muestra la lista anterior con el un nuevo elemento\n",
    "lista.append(\"nuevoElemento\")\n",
    "print(lista)"
   ]
  },
  {
   "cell_type": "code",
   "execution_count": null,
   "metadata": {},
   "outputs": [],
   "source": [
    "#agrega en un indice especifico\n",
    "lista.insert(2, \"soy otro elemento\")"
   ]
  }
 ],
 "metadata": {
  "kernelspec": {
   "display_name": "base",
   "language": "python",
   "name": "python3"
  },
  "language_info": {
   "codemirror_mode": {
    "name": "ipython",
    "version": 3
   },
   "file_extension": ".py",
   "mimetype": "text/x-python",
   "name": "python",
   "nbconvert_exporter": "python",
   "pygments_lexer": "ipython3",
   "version": "3.10.9"
  },
  "orig_nbformat": 4
 },
 "nbformat": 4,
 "nbformat_minor": 2
}
