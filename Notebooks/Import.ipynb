{
 "cells": [
  {
   "attachments": {},
   "cell_type": "markdown",
   "id": "2eb50c50",
   "metadata": {},
   "source": [
    "# mi titulo"
   ]
  },
  {
   "attachments": {},
   "cell_type": "markdown",
   "id": "9c9f2afd",
   "metadata": {},
   "source": [
    "### introduccion\n",
    "* bullet\n"
   ]
  },
  {
   "cell_type": "code",
   "execution_count": 7,
   "id": "8ad1e85f",
   "metadata": {},
   "outputs": [
    {
     "data": {
      "text/html": [
       "<div>\n",
       "<style scoped>\n",
       "    .dataframe tbody tr th:only-of-type {\n",
       "        vertical-align: middle;\n",
       "    }\n",
       "\n",
       "    .dataframe tbody tr th {\n",
       "        vertical-align: top;\n",
       "    }\n",
       "\n",
       "    .dataframe thead th {\n",
       "        text-align: right;\n",
       "    }\n",
       "</style>\n",
       "<table border=\"1\" class=\"dataframe\">\n",
       "  <thead>\n",
       "    <tr style=\"text-align: right;\">\n",
       "      <th></th>\n",
       "      <th>manzanas</th>\n",
       "      <th>peras</th>\n",
       "    </tr>\n",
       "  </thead>\n",
       "  <tbody>\n",
       "    <tr>\n",
       "      <th>juan</th>\n",
       "      <td>3</td>\n",
       "      <td>1</td>\n",
       "    </tr>\n",
       "    <tr>\n",
       "      <th>pedro</th>\n",
       "      <td>2</td>\n",
       "      <td>4</td>\n",
       "    </tr>\n",
       "  </tbody>\n",
       "</table>\n",
       "</div>"
      ],
      "text/plain": [
       "       manzanas   peras\n",
       "juan           3      1\n",
       "pedro          2      4"
      ]
     },
     "execution_count": 7,
     "metadata": {},
     "output_type": "execute_result"
    }
   ],
   "source": [
    "import pandas as pd\n",
    "datos = pd.DataFrame ({ \"manzanas \": [3,2], \"peras\": [1,4]}, index=[\"juan\", \"pedro\"])\n",
    "datos"
   ]
  },
  {
   "cell_type": "code",
   "execution_count": 8,
   "id": "48689e15",
   "metadata": {},
   "outputs": [
    {
     "data": {
      "text/plain": [
       "<Axes: >"
      ]
     },
     "execution_count": 8,
     "metadata": {},
     "output_type": "execute_result"
    },
    {
     "data": {
      "image/png": "[encoded data removed]",
      "text/plain": [
       "<Figure size 640x480 with 1 Axes>"
      ]
     },
     "metadata": {},
     "output_type": "display_data"
    }
   ],
   "source": [
    "datos.plot.bar()\n"
   ]
  },
  {
   "cell_type": "code",
   "execution_count": 9,
   "id": "906d66e7",
   "metadata": {},
   "outputs": [
    {
     "data": {
      "text/plain": [
       "manzanas     True\n",
       "peras        True\n",
       "dtype: bool"
      ]
     },
     "execution_count": 9,
     "metadata": {},
     "output_type": "execute_result"
    }
   ],
   "source": [
    "datos.all()\n"
   ]
  },
  {
   "attachments": {},
   "cell_type": "markdown",
   "id": "b675d11c",
   "metadata": {},
   "source": [
    "### importar funciones\n",
    "para  importar codigo .py ya escrito dentro de la carpeta se puede hacer con import seguido del nombre del archivo. ahora cada modulo es una carpeta y cada archivo es la importacion\n"
   ]
  },
  {
   "cell_type": "code",
   "execution_count": null,
   "id": "5663faee",
   "metadata": {},
   "outputs": [],
   "source": [
    "import ImportNotebooks\n",
    "ImportNotebooks.suma([1,2,3,4,5,6])\n",
    "#esto da error porque no se encuentra en la misma capeta"
   ]
  },
  {
   "attachments": {},
   "cell_type": "markdown",
   "id": "0a846cae",
   "metadata": {},
   "source": [
    "### Importar desde la carpeta contenedora\n",
    "para esto usamos el siguiente codigo donde importa todo lo que hay en la capeta raiz"
   ]
  },
  {
   "cell_type": "code",
   "execution_count": 3,
   "id": "f5d9e234",
   "metadata": {},
   "outputs": [],
   "source": [
    "from sys import path\n",
    "import os\n",
    "path.append(os.path.realpath('../'))"
   ]
  },
  {
   "cell_type": "code",
   "execution_count": null,
   "id": "aad9e41b",
   "metadata": {},
   "outputs": [],
   "source": [
    "from custom import ImportNotebooks\n",
    "ImportNotebooks.suma([1,2,3,4,5,6]) \n",
    "#ahora si hace la suma, ya que  importamos de manera correcta"
   ]
  }
 ],
 "metadata": {
  "kernelspec": {
   "display_name": "Python 3 (ipykernel)",
   "language": "python",
   "name": "python3"
  },
  "language_info": {
   "codemirror_mode": {
    "name": "ipython",
    "version": 3
   },
   "file_extension": ".py",
   "mimetype": "text/x-python",
   "name": "python",
   "nbconvert_exporter": "python",
   "pygments_lexer": "ipython3",
   "version": "3.10.9"
  }
 },
 "nbformat": 4,
 "nbformat_minor": 5
}
