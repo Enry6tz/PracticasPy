{
 "cells": [
  {
   "attachments": {},
   "cell_type": "markdown",
   "metadata": {},
   "source": [
    "# Probabilidad y estadistica\n"
   ]
  },
  {
   "attachments": {},
   "cell_type": "markdown",
   "metadata": {},
   "source": [
    "## funciones discretas y continuas\n",
    "* discretas : No puede tomar ningún valor\n",
    "entre dos consecutivos\n",
    "* Puede tomar cualquier valor\n",
    "dentro de un intervalo"
   ]
  },
  {
   "attachments": {},
   "cell_type": "markdown",
   "metadata": {},
   "source": [
    "## tipos de distrubución :\n",
    "* Distribucion uniforme: misma probabilidad para todos los valores ( dado )\n",
    "* Distribucion binomial: es una distrubucion de probabilidad que describe el numero de exitos al realizar experimentos independientes entre si\n",
    "    * Resultados posibles: (exito o fracaso)\n",
    "    * probabilidad constante: La probabilidad del éxito ha de ser constante. Esta se representa mediante\n",
    "        la letra p. La probabilidad de que salga cara al lanzar una moneda es 0,5 y\n",
    "        esta es constante.\n",
    "    * experimentos independientes: lo que ocurra en cada experimento no afecta a los siguientes.\n",
    "    * experimentos mutuamente excluyentes: no pueden ocurrir dos al mismo tiempo "
   ]
  },
  {
   "attachments": {},
   "cell_type": "markdown",
   "metadata": {},
   "source": [
    "## variables continuas"
   ]
  },
  {
   "attachments": {},
   "cell_type": "markdown",
   "metadata": {},
   "source": [
    "* Para variables continuas utilizamos el concepto de densidad de\n",
    "probabilidad : Una densidad uniforme es una función de densidad de probabilidad en la que la probabilidad de que una variable aleatoria caiga en cualquier intervalo del mismo tamaño es la misma. En otras palabras, la probabilidad está uniformemente distribuida en todo el rango de valores posibles.\n",
    "\n",
    "Por otro lado, una densidad gaussiana (también conocida como distribución normal) es una función de densidad de probabilidad que describe la distribución de una variable aleatoria continua. La distribución gaussiana es simétrica y en forma de campana, y se caracteriza por dos parámetros: la media y la desviación estándar. Muchas variables aleatorias en la naturaleza y en los datos humanos se distribuyen aproximadamente según una distribución gaussiana, lo que la hace extremadamente útil en la modelización y análisis de datos.\n",
    "tambien tiene una ecuacion pero es al pedo ponerla"
   ]
  },
  {
   "attachments": {},
   "cell_type": "markdown",
   "metadata": {},
   "source": [
    "## Medidas de resumen \n",
    "* Las medidas de resumen, resumen en una sola cifra toda la\n",
    "información contenida en una variable"
   ]
  },
  {
   "attachments": {},
   "cell_type": "markdown",
   "metadata": {},
   "source": [
    "### tendencia central \n",
    "*  La media aritmética es la suma de todos los valores dividida por el número de valores en el conjunto de datos. \n",
    "    La mediana es el valor central en un conjunto de datos ordenado de menor a mayor, y la moda es el valor que aparece con mayor frecuencia en el conjunto de datos. \n",
    "    Estas medidas de tendencia central son útiles para resumir un conjunto de datos y proporcionar información sobre la distribución de los valores.\n",
    "    * media: la suma de todas dividido la cantidad \n",
    "    * la mediana :Es un valor tal que bajo ella se encuentran el 50% de las observaciones\n",
    "    * la moda : el que mas se repite\n",
    "### dispersion\n",
    "*   las medidas mas usadas son:\n",
    "    * El rango: Diferencia entre el valor máximo y mínimo.\n",
    "    * La varianza (σ²): Mide que tan dispersos están los datos en torno a la media (σ² es la raiz cuadrada de la varianza ).\n",
    "*   la regla empirica: 68% de los datos esten entre la media y una variacion. el 95% dos variaciones, y 100% tres variaciones\n",
    "### medidas de posicion\n",
    "*   Los percentiles dividen un conjunto de observaciones\n",
    "        ordenadas de menor a mayor en 100 partes iguales.\n",
    "        Así hasta el primer percentil, P10, hay un 10% de las\n",
    "        observaciones, hasta el segundo percentil, P20, hay un 20%\n",
    "        de las observaciones ya así sucesivamente"
   ]
  },
  {
   "attachments": {},
   "cell_type": "markdown",
   "metadata": {},
   "source": [
    "# bueeeee ... practica"
   ]
  },
  {
   "attachments": {},
   "cell_type": "markdown",
   "metadata": {},
   "source": [
    "# Estadística\n",
    "\n",
    "La clase pasada vimos que numpy tiene muchas funciones que nos simplifican la vida a los data scientists.\n",
    "\n",
    "Numpy, también incluye funciones para calcular la media, desviación estandar, moda, percentiles, etc.\n",
    "\n",
    "Veamos algunas de ellas...\n",
    "\n",
    "## La media\n",
    "\n",
    "Dados $n$ números $x_1,x_2,...,x_n$, el promedio o media es \n",
    "\n",
    "$$\\overline{x} = \\frac{1}{n}\\sum_{i=1}^{n} x_i = \\frac{x_1 + x_2 + ... + x_n}{n}$$\n",
    "\n",
    "Primero calculemos la media de un array sin usar la función de numpy.\n",
    "\n",
    "Ejercicio: Hacer una función que reciba un array de numpy como parámetro y retorne su media\n"
   ]
  }
 ],
 "metadata": {
  "kernelspec": {
   "display_name": "base",
   "language": "python",
   "name": "python3"
  },
  "language_info": {
   "codemirror_mode": {
    "name": "ipython",
    "version": 3
   },
   "file_extension": ".py",
   "mimetype": "text/x-python",
   "name": "python",
   "nbconvert_exporter": "python",
   "pygments_lexer": "ipython3",
   "version": "3.10.9"
  },
  "orig_nbformat": 4
 },
 "nbformat": 4,
 "nbformat_minor": 2
}
